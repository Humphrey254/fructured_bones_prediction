{
 "cells": [
  {
   "cell_type": "code",
   "execution_count": 2,
   "id": "f4e2baa3-91fc-45bd-8f5b-0414aa0e1365",
   "metadata": {},
   "outputs": [],
   "source": [
    "\n",
    "import os \n",
    "import numpy as np\n",
    "import tensorflow as tf\n",
    "import keras\n",
    "from tensorflow.keras import layers \n",
    "from tensorflow.keras.preprocessing.image import load_img, ImageDataGenerator\n",
    "from tensorflow.keras.models import Sequential, load_model\n",
    "from tensorflow.keras.layers import Conv2D, MaxPooling2D, Dense, Dropout, Flatten\n",
    "import matplotlib.pyplot as plt"
   ]
  },
  {
   "cell_type": "code",
   "execution_count": 4,
   "id": "297fced7-e1e6-4267-98fe-a95e5f5027ad",
   "metadata": {},
   "outputs": [
    {
     "name": "stdout",
     "output_type": "stream",
     "text": [
      "fractured\n",
      "not_fractured\n"
     ]
    }
   ],
   "source": [
    "#Fetch images Count from folders \n",
    "dirs = os.listdir('bones/')\n",
    "for dir in dirs:\n",
    "    files=list(os.listdir('bones/'+dir))\n",
    "    print(dir)"
   ]
  },
  {
   "cell_type": "code",
   "execution_count": 5,
   "id": "3543102c-e83f-401d-9a19-e9edf0755b77",
   "metadata": {},
   "outputs": [
    {
     "name": "stdout",
     "output_type": "stream",
     "text": [
      "fractured Folder has : 4480 images\n",
      "not_fractured Folder has : 4383 images\n"
     ]
    }
   ],
   "source": [
    "#Fetch images Count from folders \n",
    "dirs = os.listdir('bones/')\n",
    "for dir in dirs:\n",
    "    files=list(os.listdir('bones/'+dir))\n",
    "    print(dir + ' Folder has : ' +str(len(files)) + ' images')"
   ]
  },
  {
   "cell_type": "code",
   "execution_count": 9,
   "id": "f59764b0-a27a-44dc-bb61-d7180af1de99",
   "metadata": {},
   "outputs": [],
   "source": [
    "#load Images into Arrays as Dataset\n",
    "base_dir ='bones/'\n",
    "img_size =180\n",
    "batch =32"
   ]
  },
  {
   "cell_type": "code",
   "execution_count": 10,
   "id": "9a7f53da-58be-48fe-aff4-ed32d744f0b9",
   "metadata": {},
   "outputs": [
    {
     "name": "stdout",
     "output_type": "stream",
     "text": [
      "Found 8863 files belonging to 2 classes.\n",
      "Using 7091 files for training.\n",
      "Found 8863 files belonging to 2 classes.\n",
      "Using 1772 files for validation.\n"
     ]
    }
   ],
   "source": [
    "train_ds = tf.keras.utils.image_dataset_from_directory(\n",
    "    base_dir,\n",
    "    seed=123,\n",
    "    validation_split=0.2,\n",
    "    subset=\"training\",\n",
    "    batch_size=batch,\n",
    "    image_size=(img_size, img_size)\n",
    ")\n",
    "\n",
    "validation_ds = tf.keras.utils.image_dataset_from_directory(\n",
    "    base_dir,\n",
    "    seed=123,\n",
    "    validation_split=0.2,\n",
    "    subset=\"validation\",\n",
    "    batch_size=batch,\n",
    "    image_size=(img_size, img_size)\n",
    ")\n"
   ]
  },
  {
   "cell_type": "code",
   "execution_count": 11,
   "id": "1b1b21e1-3b54-48c9-b8e6-ae1ea916e0bc",
   "metadata": {},
   "outputs": [
    {
     "name": "stdout",
     "output_type": "stream",
     "text": [
      "Classes: ['fractured', 'not_fractured']\n"
     ]
    }
   ],
   "source": [
    "# Get class names\n",
    "class_names = train_ds.class_names\n",
    "print(\"Classes:\", class_names)"
   ]
  },
  {
   "cell_type": "code",
   "execution_count": 12,
   "id": "3a4ce303-54d5-4135-9a1f-f36c8433864f",
   "metadata": {},
   "outputs": [],
   "source": [
    "# Prefetch for performance\n",
    "AUTOTUNE = tf.data.AUTOTUNE\n",
    "train_ds = train_ds.prefetch(buffer_size=AUTOTUNE)\n",
    "validation_ds = validation_ds.prefetch(buffer_size=AUTOTUNE)"
   ]
  },
  {
   "cell_type": "code",
   "execution_count": 13,
   "id": "aa0ea1ec-2673-41ce-93c2-ce0a932d6ac2",
   "metadata": {},
   "outputs": [],
   "source": [
    "# Data augmentation layer\n",
    "data_augmentation = keras.Sequential([\n",
    "    layers.RandomFlip(\"horizontal\"),\n",
    "    layers.RandomRotation(0.1),\n",
    "    layers.RandomZoom(0.1),\n",
    "])"
   ]
  },
  {
   "cell_type": "code",
   "execution_count": 14,
   "id": "eb0b8fd4-5ddd-4c20-9984-9bc5dad09b7c",
   "metadata": {},
   "outputs": [
    {
     "name": "stderr",
     "output_type": "stream",
     "text": [
      "C:\\Users\\hp\\anaconda3\\envs\\NEURALNETWORK\\Lib\\site-packages\\keras\\src\\layers\\preprocessing\\tf_data_layer.py:19: UserWarning: Do not pass an `input_shape`/`input_dim` argument to a layer. When using Sequential models, prefer using an `Input(shape)` object as the first layer in the model instead.\n",
      "  super().__init__(**kwargs)\n"
     ]
    }
   ],
   "source": [
    "\n",
    "# Creating model\n",
    "model = keras.Sequential([\n",
    "    data_augmentation,\n",
    "    layers.Rescaling(1./255, input_shape=(img_size, img_size, 3)),\n",
    "    layers.Conv2D(32, 3, activation='relu'),\n",
    "    layers.MaxPooling2D(),\n",
    "    layers.Conv2D(64, 3, activation='relu'),\n",
    "    layers.MaxPooling2D(),\n",
    "    layers.Conv2D(128, 3, activation='relu'),\n",
    "    layers.MaxPooling2D(),\n",
    "    layers.Flatten(),\n",
    "    layers.Dense(128, activation='relu'),\n",
    "    layers.Dense(1, activation='sigmoid')  # Binary classification\n",
    "])"
   ]
  },
  {
   "cell_type": "code",
   "execution_count": 15,
   "id": "d68e21be-02ec-4d01-ad92-40acbdfbb775",
   "metadata": {},
   "outputs": [],
   "source": [
    "# Compile model\n",
    "model.compile(\n",
    "    optimizer='adam',\n",
    "    loss='binary_crossentropy',\n",
    "    metrics=['accuracy']\n",
    ")"
   ]
  },
  {
   "cell_type": "code",
   "execution_count": 16,
   "id": "d65fcd73-ac13-47b8-8d49-c8a5b2b590fc",
   "metadata": {},
   "outputs": [
    {
     "name": "stdout",
     "output_type": "stream",
     "text": [
      "Epoch 1/12\n",
      "\u001b[1m222/222\u001b[0m \u001b[32m━━━━━━━━━━━━━━━━━━━━\u001b[0m\u001b[37m\u001b[0m \u001b[1m459s\u001b[0m 2s/step - accuracy: 0.5516 - loss: 0.6978 - val_accuracy: 0.6287 - val_loss: 0.6186\n",
      "Epoch 2/12\n",
      "\u001b[1m222/222\u001b[0m \u001b[32m━━━━━━━━━━━━━━━━━━━━\u001b[0m\u001b[37m\u001b[0m \u001b[1m384s\u001b[0m 2s/step - accuracy: 0.6691 - loss: 0.6008 - val_accuracy: 0.7658 - val_loss: 0.4808\n",
      "Epoch 3/12\n",
      "\u001b[1m222/222\u001b[0m \u001b[32m━━━━━━━━━━━━━━━━━━━━\u001b[0m\u001b[37m\u001b[0m \u001b[1m314s\u001b[0m 1s/step - accuracy: 0.7469 - loss: 0.4971 - val_accuracy: 0.8217 - val_loss: 0.3735\n",
      "Epoch 4/12\n",
      "\u001b[1m222/222\u001b[0m \u001b[32m━━━━━━━━━━━━━━━━━━━━\u001b[0m\u001b[37m\u001b[0m \u001b[1m313s\u001b[0m 1s/step - accuracy: 0.8182 - loss: 0.3999 - val_accuracy: 0.8843 - val_loss: 0.2841\n",
      "Epoch 5/12\n",
      "\u001b[1m222/222\u001b[0m \u001b[32m━━━━━━━━━━━━━━━━━━━━\u001b[0m\u001b[37m\u001b[0m \u001b[1m4042s\u001b[0m 18s/step - accuracy: 0.8602 - loss: 0.3208 - val_accuracy: 0.9018 - val_loss: 0.2218\n",
      "Epoch 6/12\n",
      "\u001b[1m222/222\u001b[0m \u001b[32m━━━━━━━━━━━━━━━━━━━━\u001b[0m\u001b[37m\u001b[0m \u001b[1m476s\u001b[0m 2s/step - accuracy: 0.8918 - loss: 0.2538 - val_accuracy: 0.9565 - val_loss: 0.1224\n",
      "Epoch 7/12\n",
      "\u001b[1m222/222\u001b[0m \u001b[32m━━━━━━━━━━━━━━━━━━━━\u001b[0m\u001b[37m\u001b[0m \u001b[1m417s\u001b[0m 2s/step - accuracy: 0.9314 - loss: 0.1805 - val_accuracy: 0.9684 - val_loss: 0.0911\n",
      "Epoch 8/12\n",
      "\u001b[1m222/222\u001b[0m \u001b[32m━━━━━━━━━━━━━━━━━━━━\u001b[0m\u001b[37m\u001b[0m \u001b[1m332s\u001b[0m 1s/step - accuracy: 0.9361 - loss: 0.1606 - val_accuracy: 0.9774 - val_loss: 0.0686\n",
      "Epoch 9/12\n",
      "\u001b[1m222/222\u001b[0m \u001b[32m━━━━━━━━━━━━━━━━━━━━\u001b[0m\u001b[37m\u001b[0m \u001b[1m300s\u001b[0m 1s/step - accuracy: 0.9521 - loss: 0.1229 - val_accuracy: 0.9865 - val_loss: 0.0447\n",
      "Epoch 10/12\n",
      "\u001b[1m222/222\u001b[0m \u001b[32m━━━━━━━━━━━━━━━━━━━━\u001b[0m\u001b[37m\u001b[0m \u001b[1m294s\u001b[0m 1s/step - accuracy: 0.9637 - loss: 0.0916 - val_accuracy: 0.9887 - val_loss: 0.0502\n",
      "Epoch 11/12\n",
      "\u001b[1m222/222\u001b[0m \u001b[32m━━━━━━━━━━━━━━━━━━━━\u001b[0m\u001b[37m\u001b[0m \u001b[1m324s\u001b[0m 1s/step - accuracy: 0.9673 - loss: 0.0896 - val_accuracy: 0.9859 - val_loss: 0.0381\n",
      "Epoch 12/12\n",
      "\u001b[1m222/222\u001b[0m \u001b[32m━━━━━━━━━━━━━━━━━━━━\u001b[0m\u001b[37m\u001b[0m \u001b[1m300s\u001b[0m 1s/step - accuracy: 0.9705 - loss: 0.0763 - val_accuracy: 0.9898 - val_loss: 0.0395\n"
     ]
    }
   ],
   "source": [
    "\n",
    "# Model training\n",
    "history = model.fit(train_ds, epochs=12, validation_data=validation_ds)"
   ]
  },
  {
   "cell_type": "code",
   "execution_count": 17,
   "id": "480409e0-469b-4d50-a3e0-4bb0e7a5c331",
   "metadata": {},
   "outputs": [
    {
     "name": "stderr",
     "output_type": "stream",
     "text": [
      "WARNING:absl:You are saving your model as an HDF5 file via `model.save()` or `keras.saving.save_model(model)`. This file format is considered legacy. We recommend using instead the native Keras format, e.g. `model.save('my_model.keras')` or `keras.saving.save_model(model, 'my_model.keras')`. \n"
     ]
    },
    {
     "name": "stdout",
     "output_type": "stream",
     "text": [
      "Model saved as bone_fracture_model.h5\n"
     ]
    }
   ],
   "source": [
    " \n",
    "# Save model\n",
    "model.save(\"bone_fracture_model.h5\")\n",
    "print(\"Model saved as bone_fracture_model.h5\")"
   ]
  },
  {
   "cell_type": "code",
   "execution_count": null,
   "id": "f6ac6eb1-3840-461c-899d-18f53cfff3c3",
   "metadata": {},
   "outputs": [],
   "source": []
  }
 ],
 "metadata": {
  "kernelspec": {
   "display_name": "Python 3 (ipykernel)",
   "language": "python",
   "name": "python3"
  },
  "language_info": {
   "codemirror_mode": {
    "name": "ipython",
    "version": 3
   },
   "file_extension": ".py",
   "mimetype": "text/x-python",
   "name": "python",
   "nbconvert_exporter": "python",
   "pygments_lexer": "ipython3",
   "version": "3.12.9"
  }
 },
 "nbformat": 4,
 "nbformat_minor": 5
}
